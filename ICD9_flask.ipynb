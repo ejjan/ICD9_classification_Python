{
 "cells": [
  {
   "cell_type": "code",
   "execution_count": 2,
   "metadata": {
    "collapsed": true
   },
   "outputs": [],
   "source": [
    "import pandas as pd\n",
    "import numpy as np\n",
    "import os\n",
    "\n",
    "from nltk.corpus import stopwords \n",
    "from nltk.corpus import wordnet \n",
    "from nltk import wordpunct_tokenize\n",
    "from nltk import WordNetLemmatizer\n",
    "from nltk import sent_tokenize\n",
    "from nltk import pos_tag\n",
    "\n",
    "from sklearn.feature_extraction.text import TfidfVectorizer\n",
    "from sklearn.preprocessing import StandardScaler\n",
    "from sklearn.model_selection import train_test_split, GridSearchCV\n",
    "from sklearn.svm import SVC\n",
    "from sklearn.metrics import confusion_matrix, classification_report\n",
    "from sklearn.naive_bayes import BernoulliNB, MultinomialNB, GaussianNB\n",
    "\n",
    "from imblearn.pipeline import make_pipeline\n"
   ]
  },
  {
   "cell_type": "code",
   "execution_count": 3,
   "metadata": {},
   "outputs": [
    {
     "name": "stdout",
     "output_type": "stream",
     "text": [
      "<class 'pandas.core.frame.DataFrame'>\n",
      "RangeIndex: 3829 entries, 0 to 3828\n",
      "Data columns (total 3 columns):\n",
      "ICD_9        3829 non-null object\n",
      "Type         3829 non-null object\n",
      "sentences    3829 non-null object\n",
      "dtypes: object(3)\n",
      "memory usage: 89.8+ KB\n"
     ]
    }
   ],
   "source": [
    "# Data source: https://raw.githubusercontent.com/cestella/NLPDemo/solution/NLPDemo/src/main/data/sentences.dat\n",
    "df = pd.read_csv('../icd_codes.csv', names = [\"ICD_9\", \"Type\", \"sentences\"])\n",
    "df.info()\n"
   ]
  },
  {
   "cell_type": "code",
   "execution_count": 4,
   "metadata": {},
   "outputs": [
    {
     "data": {
      "text/plain": [
       "ICD_9          45\n",
       "Type            2\n",
       "sentences    2871\n",
       "dtype: int64"
      ]
     },
     "execution_count": 4,
     "metadata": {},
     "output_type": "execute_result"
    }
   ],
   "source": [
    "df.nunique()"
   ]
  },
  {
   "cell_type": "code",
   "execution_count": 5,
   "metadata": {},
   "outputs": [
    {
     "data": {
      "text/html": [
       "<div>\n",
       "<style>\n",
       "    .dataframe thead tr:only-child th {\n",
       "        text-align: right;\n",
       "    }\n",
       "\n",
       "    .dataframe thead th {\n",
       "        text-align: left;\n",
       "    }\n",
       "\n",
       "    .dataframe tbody tr th {\n",
       "        vertical-align: top;\n",
       "    }\n",
       "</style>\n",
       "<table border=\"1\" class=\"dataframe\">\n",
       "  <thead>\n",
       "    <tr style=\"text-align: right;\">\n",
       "      <th></th>\n",
       "      <th>ICD_9</th>\n",
       "      <th>Type</th>\n",
       "      <th>sentences</th>\n",
       "    </tr>\n",
       "  </thead>\n",
       "  <tbody>\n",
       "    <tr>\n",
       "      <th>4</th>\n",
       "      <td>277</td>\n",
       "      <td>CLINICAL_HISTORY</td>\n",
       "      <td>1 year old with ...</td>\n",
       "    </tr>\n",
       "    <tr>\n",
       "      <th>5</th>\n",
       "      <td>277</td>\n",
       "      <td>CLINICAL_HISTORY</td>\n",
       "      <td>12-year - old ma...</td>\n",
       "    </tr>\n",
       "    <tr>\n",
       "      <th>6</th>\n",
       "      <td>277</td>\n",
       "      <td>CLINICAL_HISTORY</td>\n",
       "      <td>16 month old wit...</td>\n",
       "    </tr>\n",
       "    <tr>\n",
       "      <th>7</th>\n",
       "      <td>277</td>\n",
       "      <td>CLINICAL_HISTORY</td>\n",
       "      <td>16-year 6-month ...</td>\n",
       "    </tr>\n",
       "    <tr>\n",
       "      <th>8</th>\n",
       "      <td>277</td>\n",
       "      <td>CLINICAL_HISTORY</td>\n",
       "      <td>17-year - old wi...</td>\n",
       "    </tr>\n",
       "    <tr>\n",
       "      <th>9</th>\n",
       "      <td>277</td>\n",
       "      <td>CLINICAL_HISTORY</td>\n",
       "      <td>18-year - old wi...</td>\n",
       "    </tr>\n",
       "    <tr>\n",
       "      <th>10</th>\n",
       "      <td>277</td>\n",
       "      <td>CLINICAL_HISTORY</td>\n",
       "      <td>4-year - old wit...</td>\n",
       "    </tr>\n",
       "    <tr>\n",
       "      <th>11</th>\n",
       "      <td>277</td>\n",
       "      <td>CLINICAL_HISTORY</td>\n",
       "      <td>Approximately 19...</td>\n",
       "    </tr>\n",
       "    <tr>\n",
       "      <th>12</th>\n",
       "      <td>277</td>\n",
       "      <td>CLINICAL_HISTORY</td>\n",
       "      <td>CF. Yearly evalu...</td>\n",
       "    </tr>\n",
       "    <tr>\n",
       "      <th>13</th>\n",
       "      <td>277</td>\n",
       "      <td>CLINICAL_HISTORY</td>\n",
       "      <td>Cystic Fibrosis.</td>\n",
       "    </tr>\n",
       "    <tr>\n",
       "      <th>14</th>\n",
       "      <td>277</td>\n",
       "      <td>CLINICAL_HISTORY</td>\n",
       "      <td>Cystic fibrosis ...</td>\n",
       "    </tr>\n",
       "    <tr>\n",
       "      <th>15</th>\n",
       "      <td>277</td>\n",
       "      <td>CLINICAL_HISTORY</td>\n",
       "      <td>Cystic fibrosis ...</td>\n",
       "    </tr>\n",
       "    <tr>\n",
       "      <th>16</th>\n",
       "      <td>277</td>\n",
       "      <td>CLINICAL_HISTORY</td>\n",
       "      <td>Cystic fibrosis ...</td>\n",
       "    </tr>\n",
       "    <tr>\n",
       "      <th>17</th>\n",
       "      <td>277</td>\n",
       "      <td>CLINICAL_HISTORY</td>\n",
       "      <td>Cystic fibrosis ...</td>\n",
       "    </tr>\n",
       "    <tr>\n",
       "      <th>18</th>\n",
       "      <td>277</td>\n",
       "      <td>CLINICAL_HISTORY</td>\n",
       "      <td>Cystic fibrosis,...</td>\n",
       "    </tr>\n",
       "    <tr>\n",
       "      <th>19</th>\n",
       "      <td>277</td>\n",
       "      <td>CLINICAL_HISTORY</td>\n",
       "      <td>Cystic fibrosis,...</td>\n",
       "    </tr>\n",
       "    <tr>\n",
       "      <th>20</th>\n",
       "      <td>277</td>\n",
       "      <td>CLINICAL_HISTORY</td>\n",
       "      <td>Cystic fibrosis,...</td>\n",
       "    </tr>\n",
       "    <tr>\n",
       "      <th>21</th>\n",
       "      <td>277</td>\n",
       "      <td>CLINICAL_HISTORY</td>\n",
       "      <td>Cystic fibrosis,...</td>\n",
       "    </tr>\n",
       "    <tr>\n",
       "      <th>22</th>\n",
       "      <td>277</td>\n",
       "      <td>CLINICAL_HISTORY</td>\n",
       "      <td>Cystic fibrosis.</td>\n",
       "    </tr>\n",
       "    <tr>\n",
       "      <th>23</th>\n",
       "      <td>277</td>\n",
       "      <td>CLINICAL_HISTORY</td>\n",
       "      <td>Cystic fibrosis....</td>\n",
       "    </tr>\n",
       "    <tr>\n",
       "      <th>24</th>\n",
       "      <td>277</td>\n",
       "      <td>CLINICAL_HISTORY</td>\n",
       "      <td>Cystic fibrosis....</td>\n",
       "    </tr>\n",
       "    <tr>\n",
       "      <th>25</th>\n",
       "      <td>277</td>\n",
       "      <td>CLINICAL_HISTORY</td>\n",
       "      <td>Nine - year-old ...</td>\n",
       "    </tr>\n",
       "    <tr>\n",
       "      <th>26</th>\n",
       "      <td>277</td>\n",
       "      <td>CLINICAL_HISTORY</td>\n",
       "      <td>Patient is a 14-...</td>\n",
       "    </tr>\n",
       "    <tr>\n",
       "      <th>27</th>\n",
       "      <td>277</td>\n",
       "      <td>CLINICAL_HISTORY</td>\n",
       "      <td>This is a 6-year...</td>\n",
       "    </tr>\n",
       "    <tr>\n",
       "      <th>28</th>\n",
       "      <td>277</td>\n",
       "      <td>CLINICAL_HISTORY</td>\n",
       "      <td>Three - year-old...</td>\n",
       "    </tr>\n",
       "    <tr>\n",
       "      <th>29</th>\n",
       "      <td>277</td>\n",
       "      <td>CLINICAL_HISTORY</td>\n",
       "      <td>Yearly checkup f...</td>\n",
       "    </tr>\n",
       "    <tr>\n",
       "      <th>30</th>\n",
       "      <td>277</td>\n",
       "      <td>IMPRESSION</td>\n",
       "      <td>1. Improved aera...</td>\n",
       "    </tr>\n",
       "    <tr>\n",
       "      <th>31</th>\n",
       "      <td>277</td>\n",
       "      <td>IMPRESSION</td>\n",
       "      <td>1. Mild increase...</td>\n",
       "    </tr>\n",
       "    <tr>\n",
       "      <th>32</th>\n",
       "      <td>277</td>\n",
       "      <td>IMPRESSION</td>\n",
       "      <td>Chest within nor...</td>\n",
       "    </tr>\n",
       "    <tr>\n",
       "      <th>33</th>\n",
       "      <td>277</td>\n",
       "      <td>IMPRESSION</td>\n",
       "      <td>Compared to one ...</td>\n",
       "    </tr>\n",
       "    <tr>\n",
       "      <th>...</th>\n",
       "      <td>...</td>\n",
       "      <td>...</td>\n",
       "      <td>...</td>\n",
       "    </tr>\n",
       "    <tr>\n",
       "      <th>3791</th>\n",
       "      <td>V13.09</td>\n",
       "      <td>IMPRESSION</td>\n",
       "      <td>1. Slight interv...</td>\n",
       "    </tr>\n",
       "    <tr>\n",
       "      <th>3792</th>\n",
       "      <td>V13.09</td>\n",
       "      <td>IMPRESSION</td>\n",
       "      <td>Interval growth ...</td>\n",
       "    </tr>\n",
       "    <tr>\n",
       "      <th>3793</th>\n",
       "      <td>V13.09</td>\n",
       "      <td>IMPRESSION</td>\n",
       "      <td>Interval growth ...</td>\n",
       "    </tr>\n",
       "    <tr>\n",
       "      <th>3794</th>\n",
       "      <td>V13.09</td>\n",
       "      <td>IMPRESSION</td>\n",
       "      <td>Mild right uroth...</td>\n",
       "    </tr>\n",
       "    <tr>\n",
       "      <th>3795</th>\n",
       "      <td>V13.09</td>\n",
       "      <td>IMPRESSION</td>\n",
       "      <td>No hydronephrosi...</td>\n",
       "    </tr>\n",
       "    <tr>\n",
       "      <th>3796</th>\n",
       "      <td>V13.09</td>\n",
       "      <td>IMPRESSION</td>\n",
       "      <td>Normal renal ult...</td>\n",
       "    </tr>\n",
       "    <tr>\n",
       "      <th>3797</th>\n",
       "      <td>V13.09</td>\n",
       "      <td>IMPRESSION</td>\n",
       "      <td>Normal renal ult...</td>\n",
       "    </tr>\n",
       "    <tr>\n",
       "      <th>3798</th>\n",
       "      <td>V13.09</td>\n",
       "      <td>IMPRESSION</td>\n",
       "      <td>Stable ultrasoun...</td>\n",
       "    </tr>\n",
       "    <tr>\n",
       "      <th>3803</th>\n",
       "      <td>V67.09</td>\n",
       "      <td>CLINICAL_HISTORY</td>\n",
       "      <td>10-year - old fe...</td>\n",
       "    </tr>\n",
       "    <tr>\n",
       "      <th>3804</th>\n",
       "      <td>V67.09</td>\n",
       "      <td>CLINICAL_HISTORY</td>\n",
       "      <td>18-year - old wi...</td>\n",
       "    </tr>\n",
       "    <tr>\n",
       "      <th>3805</th>\n",
       "      <td>V67.09</td>\n",
       "      <td>CLINICAL_HISTORY</td>\n",
       "      <td>5-year - old gir...</td>\n",
       "    </tr>\n",
       "    <tr>\n",
       "      <th>3806</th>\n",
       "      <td>V67.09</td>\n",
       "      <td>CLINICAL_HISTORY</td>\n",
       "      <td>6-year - old wit...</td>\n",
       "    </tr>\n",
       "    <tr>\n",
       "      <th>3807</th>\n",
       "      <td>V67.09</td>\n",
       "      <td>CLINICAL_HISTORY</td>\n",
       "      <td>Bilateral ureter...</td>\n",
       "    </tr>\n",
       "    <tr>\n",
       "      <th>3808</th>\n",
       "      <td>V67.09</td>\n",
       "      <td>CLINICAL_HISTORY</td>\n",
       "      <td>Followup for ure...</td>\n",
       "    </tr>\n",
       "    <tr>\n",
       "      <th>3809</th>\n",
       "      <td>V67.09</td>\n",
       "      <td>CLINICAL_HISTORY</td>\n",
       "      <td>Reimplants proce...</td>\n",
       "    </tr>\n",
       "    <tr>\n",
       "      <th>3810</th>\n",
       "      <td>V67.09</td>\n",
       "      <td>CLINICAL_HISTORY</td>\n",
       "      <td>Status post blad...</td>\n",
       "    </tr>\n",
       "    <tr>\n",
       "      <th>3811</th>\n",
       "      <td>V67.09</td>\n",
       "      <td>CLINICAL_HISTORY</td>\n",
       "      <td>Status post left...</td>\n",
       "    </tr>\n",
       "    <tr>\n",
       "      <th>3812</th>\n",
       "      <td>V67.09</td>\n",
       "      <td>CLINICAL_HISTORY</td>\n",
       "      <td>Ureteral reimpla...</td>\n",
       "    </tr>\n",
       "    <tr>\n",
       "      <th>3813</th>\n",
       "      <td>V67.09</td>\n",
       "      <td>CLINICAL_HISTORY</td>\n",
       "      <td>Ureteral reimpla...</td>\n",
       "    </tr>\n",
       "    <tr>\n",
       "      <th>3814</th>\n",
       "      <td>V67.09</td>\n",
       "      <td>IMPRESSION</td>\n",
       "      <td>Interval growth ...</td>\n",
       "    </tr>\n",
       "    <tr>\n",
       "      <th>3815</th>\n",
       "      <td>V67.09</td>\n",
       "      <td>IMPRESSION</td>\n",
       "      <td>Interval growth ...</td>\n",
       "    </tr>\n",
       "    <tr>\n",
       "      <th>3816</th>\n",
       "      <td>V67.09</td>\n",
       "      <td>IMPRESSION</td>\n",
       "      <td>Interval growth ...</td>\n",
       "    </tr>\n",
       "    <tr>\n",
       "      <th>3817</th>\n",
       "      <td>V67.09</td>\n",
       "      <td>IMPRESSION</td>\n",
       "      <td>Interval growth ...</td>\n",
       "    </tr>\n",
       "    <tr>\n",
       "      <th>3818</th>\n",
       "      <td>V67.09</td>\n",
       "      <td>IMPRESSION</td>\n",
       "      <td>Lungs are clear....</td>\n",
       "    </tr>\n",
       "    <tr>\n",
       "      <th>3819</th>\n",
       "      <td>V67.09</td>\n",
       "      <td>IMPRESSION</td>\n",
       "      <td>No acute disease.</td>\n",
       "    </tr>\n",
       "    <tr>\n",
       "      <th>3820</th>\n",
       "      <td>V67.09</td>\n",
       "      <td>IMPRESSION</td>\n",
       "      <td>No significant c...</td>\n",
       "    </tr>\n",
       "    <tr>\n",
       "      <th>3821</th>\n",
       "      <td>V67.09</td>\n",
       "      <td>IMPRESSION</td>\n",
       "      <td>Normal renal ult...</td>\n",
       "    </tr>\n",
       "    <tr>\n",
       "      <th>3822</th>\n",
       "      <td>V67.09</td>\n",
       "      <td>IMPRESSION</td>\n",
       "      <td>Numerous surgica...</td>\n",
       "    </tr>\n",
       "    <tr>\n",
       "      <th>3823</th>\n",
       "      <td>V67.09</td>\n",
       "      <td>IMPRESSION</td>\n",
       "      <td>Satisfactory pos...</td>\n",
       "    </tr>\n",
       "    <tr>\n",
       "      <th>3824</th>\n",
       "      <td>V67.09</td>\n",
       "      <td>IMPRESSION</td>\n",
       "      <td>Stable normal ap...</td>\n",
       "    </tr>\n",
       "  </tbody>\n",
       "</table>\n",
       "<p>3751 rows × 3 columns</p>\n",
       "</div>"
      ],
      "text/plain": [
       "       ICD_9              Type            sentences\n",
       "4        277  CLINICAL_HISTORY  1 year old with ...\n",
       "5        277  CLINICAL_HISTORY  12-year - old ma...\n",
       "6        277  CLINICAL_HISTORY  16 month old wit...\n",
       "7        277  CLINICAL_HISTORY  16-year 6-month ...\n",
       "8        277  CLINICAL_HISTORY  17-year - old wi...\n",
       "9        277  CLINICAL_HISTORY  18-year - old wi...\n",
       "10       277  CLINICAL_HISTORY  4-year - old wit...\n",
       "11       277  CLINICAL_HISTORY  Approximately 19...\n",
       "12       277  CLINICAL_HISTORY  CF. Yearly evalu...\n",
       "13       277  CLINICAL_HISTORY     Cystic Fibrosis.\n",
       "14       277  CLINICAL_HISTORY  Cystic fibrosis ...\n",
       "15       277  CLINICAL_HISTORY  Cystic fibrosis ...\n",
       "16       277  CLINICAL_HISTORY  Cystic fibrosis ...\n",
       "17       277  CLINICAL_HISTORY  Cystic fibrosis ...\n",
       "18       277  CLINICAL_HISTORY  Cystic fibrosis,...\n",
       "19       277  CLINICAL_HISTORY  Cystic fibrosis,...\n",
       "20       277  CLINICAL_HISTORY  Cystic fibrosis,...\n",
       "21       277  CLINICAL_HISTORY  Cystic fibrosis,...\n",
       "22       277  CLINICAL_HISTORY     Cystic fibrosis.\n",
       "23       277  CLINICAL_HISTORY  Cystic fibrosis....\n",
       "24       277  CLINICAL_HISTORY  Cystic fibrosis....\n",
       "25       277  CLINICAL_HISTORY  Nine - year-old ...\n",
       "26       277  CLINICAL_HISTORY  Patient is a 14-...\n",
       "27       277  CLINICAL_HISTORY  This is a 6-year...\n",
       "28       277  CLINICAL_HISTORY  Three - year-old...\n",
       "29       277  CLINICAL_HISTORY  Yearly checkup f...\n",
       "30       277        IMPRESSION  1. Improved aera...\n",
       "31       277        IMPRESSION  1. Mild increase...\n",
       "32       277        IMPRESSION  Chest within nor...\n",
       "33       277        IMPRESSION  Compared to one ...\n",
       "...      ...               ...                  ...\n",
       "3791  V13.09        IMPRESSION  1. Slight interv...\n",
       "3792  V13.09        IMPRESSION  Interval growth ...\n",
       "3793  V13.09        IMPRESSION  Interval growth ...\n",
       "3794  V13.09        IMPRESSION  Mild right uroth...\n",
       "3795  V13.09        IMPRESSION  No hydronephrosi...\n",
       "3796  V13.09        IMPRESSION  Normal renal ult...\n",
       "3797  V13.09        IMPRESSION  Normal renal ult...\n",
       "3798  V13.09        IMPRESSION  Stable ultrasoun...\n",
       "3803  V67.09  CLINICAL_HISTORY  10-year - old fe...\n",
       "3804  V67.09  CLINICAL_HISTORY  18-year - old wi...\n",
       "3805  V67.09  CLINICAL_HISTORY  5-year - old gir...\n",
       "3806  V67.09  CLINICAL_HISTORY  6-year - old wit...\n",
       "3807  V67.09  CLINICAL_HISTORY  Bilateral ureter...\n",
       "3808  V67.09  CLINICAL_HISTORY  Followup for ure...\n",
       "3809  V67.09  CLINICAL_HISTORY  Reimplants proce...\n",
       "3810  V67.09  CLINICAL_HISTORY  Status post blad...\n",
       "3811  V67.09  CLINICAL_HISTORY  Status post left...\n",
       "3812  V67.09  CLINICAL_HISTORY  Ureteral reimpla...\n",
       "3813  V67.09  CLINICAL_HISTORY  Ureteral reimpla...\n",
       "3814  V67.09        IMPRESSION  Interval growth ...\n",
       "3815  V67.09        IMPRESSION  Interval growth ...\n",
       "3816  V67.09        IMPRESSION  Interval growth ...\n",
       "3817  V67.09        IMPRESSION  Interval growth ...\n",
       "3818  V67.09        IMPRESSION  Lungs are clear....\n",
       "3819  V67.09        IMPRESSION    No acute disease.\n",
       "3820  V67.09        IMPRESSION  No significant c...\n",
       "3821  V67.09        IMPRESSION  Normal renal ult...\n",
       "3822  V67.09        IMPRESSION  Numerous surgica...\n",
       "3823  V67.09        IMPRESSION  Satisfactory pos...\n",
       "3824  V67.09        IMPRESSION  Stable normal ap...\n",
       "\n",
       "[3751 rows x 3 columns]"
      ]
     },
     "execution_count": 5,
     "metadata": {},
     "output_type": "execute_result"
    }
   ],
   "source": [
    "# remove icd code whose count is less than 10 times\n",
    "c = df['ICD_9'].value_counts()\n",
    "a = ['462', '791', '596.8', '593.1','785.6','783','753','79.99','786.59' \n",
    "     ,'758.6','V42.0','788.41','V72.5','511.9','279.12']\n",
    "\n",
    "df = df[~df['ICD_9'].isin(a)]\n",
    "df"
   ]
  },
  {
   "cell_type": "code",
   "execution_count": 7,
   "metadata": {},
   "outputs": [
    {
     "data": {
      "text/plain": [
       "{'277': \"Very mild peribronchial cuffing consistent with patient's known history of cystic fibrosis. This is not significantly changed allowing for better aeration on today's exam when compared with the exam from 1/2/01.\",\n",
       " '486': 'Worsening airspace disease as described.',\n",
       " '493.9': 'Viral vs reactive airway disease.',\n",
       " '518': 'Subsegmental atelectasis in the left lower lobe, otherwise normal exam.',\n",
       " '591': 'Worsening of the hydronephrosis of the left upper pole moiety and new hydronephrosis in the left lower pole moiety. This could represent effects of obstructing postoperative edema.',\n",
       " '592': 'Unchanged right renal nonobstructing calculi.',\n",
       " '593.5': 'Stable moderately severe left - sided hydronephrosis and hydroureter.',\n",
       " '593.7': 'The right kidney does not appear to have grown. There is no hydronephrosis or hydroureter. Intrinsically, the kidneys appear normal. However, failure of growth of the kidney may reflect the patient has recurrent infections, scarring or reflux.',\n",
       " '593.89': 'Worsening of the hydronephrosis of the left upper pole moiety and new hydronephrosis in the left lower pole moiety. This could represent effects of obstructing postoperative edema.',\n",
       " '596.54': 'Urothelial thickening and echogenic material in the collecting system and bladder, suggesting an acute infection. Moderate to marked left hydronephrosis, which has increased since the prior study. The Urology Clinic was notified of these findings and the patient sent for urinalysis.',\n",
       " '599': 'There is asymmetry in renal size as left significantly longer than right without an etiology to explain the finding. No hydronephrosis is detected. Followup imaging may be considered. Prominent fetal lobulation of the kidneys is an incidental finding.',\n",
       " '599.7': 'The kidneys are normal in size for age and demonstrate normal imaging characteristics.',\n",
       " '741.9': 'The kidneys have grown somewhat and show no hydronephrosis. R 9.5; L 11.0 cm.',\n",
       " '753.21': 'This patient had mild to moderate right hydronephrosis. There is no evidence of progression. On the left, the kidney appears normal.',\n",
       " '753.3': 'Stable ultrasound examination of sonographically normal appearing kidneys.',\n",
       " '759.89': 'Stable, normal renal ultrasound. ',\n",
       " '780.6': 'Viral vs reactive airway disease.',\n",
       " '786.05': 'Right upper lobe volume loss and probably pneumonia. A small amount of adenopathy cannot be completely excluded although there are no other findings of adenopathy or pleural effusion.',\n",
       " '786.07': 'Two views of the chest show opacity in both upper lobes, right - sided greater than left. Findings may represent atelectasis or pneumonia. The perihilar markings are mildly increased. There is no pleural effusion. The cardiac and mediastinal silhouette is normal. No bony abnormalities are seen.',\n",
       " '786.09': 'The increased perihilar lung markings may represent mild viral or reactive airways disease vs artifact from mildly low lung volumes. I suspect the former. Could this patient be aspirating.',\n",
       " '786.2': 'Viral vs reactive airway disease.',\n",
       " '786.5': 'There is mild peribronchial cuffing without air trapping or focal pneumonia. The findings at most reflects mild viral or reactive airways disease.',\n",
       " '787.03': 'Normal chest. No radiographic features of bacterial pneumonia.',\n",
       " '788.3': 'Upper normal renal sizes. Otherwise, normal ultrasound. ',\n",
       " '789': 'The stomach is quite full of food and fluid. It is just after lunch time. The colon has moderate stool. Otherwise normal.',\n",
       " '789.09': \"Single AP of the abdomen does not reveal the etiology of the patient's pain. It appears near normal except for minimal prominence of bowel loops in the right lower quadrant.\",\n",
       " '795.5': 'The examination is negative.',\n",
       " 'V13.02': 'Normal renal ultrasound..',\n",
       " 'V13.09': 'Stable ultrasound examination of sonographically normal appearing kidneys.',\n",
       " 'V67.09': 'Stable normal appearing kidneys.'}"
      ]
     },
     "execution_count": 7,
     "metadata": {},
     "output_type": "execute_result"
    }
   ],
   "source": [
    "# ## Create a dictionary of customerID,description pairs\n",
    "token_dict = pd.Series(df['sentences'].values,index=df['ICD_9']).to_dict()\n",
    "token_dict"
   ]
  },
  {
   "cell_type": "code",
   "execution_count": 8,
   "metadata": {
    "collapsed": true
   },
   "outputs": [],
   "source": [
    "# Use line below for just unigrams\n",
    "v = TfidfVectorizer()\n",
    "\n",
    "# Use line below for unigrams, bigrams, and trigrams\n",
    "#v = TfidfVectorizer(ngram_range=(2,3))  \n",
    "\n",
    "\n",
    "\n",
    "X = v.fit_transform(df['sentences']).toarray()\n",
    "\n",
    "convoDF = pd.DataFrame() # Initialize new DF\n",
    "\n",
    "for i, col in enumerate(v.get_feature_names()):\n",
    "    convoDF[col] = X[:, i]"
   ]
  },
  {
   "cell_type": "code",
   "execution_count": 9,
   "metadata": {},
   "outputs": [
    {
     "data": {
      "text/html": [
       "<div>\n",
       "<style>\n",
       "    .dataframe thead tr:only-child th {\n",
       "        text-align: right;\n",
       "    }\n",
       "\n",
       "    .dataframe thead th {\n",
       "        text-align: left;\n",
       "    }\n",
       "\n",
       "    .dataframe tbody tr th {\n",
       "        vertical-align: top;\n",
       "    }\n",
       "</style>\n",
       "<table border=\"1\" class=\"dataframe\">\n",
       "  <thead>\n",
       "    <tr style=\"text-align: right;\">\n",
       "      <th></th>\n",
       "      <th>00</th>\n",
       "      <th>01</th>\n",
       "      <th>04</th>\n",
       "      <th>05</th>\n",
       "      <th>09</th>\n",
       "      <th>0cm</th>\n",
       "      <th>10</th>\n",
       "      <th>100</th>\n",
       "      <th>101</th>\n",
       "      <th>102</th>\n",
       "      <th>...</th>\n",
       "      <th>x3</th>\n",
       "      <th>x4</th>\n",
       "      <th>x5</th>\n",
       "      <th>xray</th>\n",
       "      <th>year</th>\n",
       "      <th>yearly</th>\n",
       "      <th>years</th>\n",
       "      <th>yesterday</th>\n",
       "      <th>zithromax</th>\n",
       "      <th>zone</th>\n",
       "    </tr>\n",
       "  </thead>\n",
       "  <tbody>\n",
       "    <tr>\n",
       "      <th>0</th>\n",
       "      <td>0.0</td>\n",
       "      <td>0.0</td>\n",
       "      <td>0.0</td>\n",
       "      <td>0.0</td>\n",
       "      <td>0.0</td>\n",
       "      <td>0.0</td>\n",
       "      <td>0.0</td>\n",
       "      <td>0.0</td>\n",
       "      <td>0.0</td>\n",
       "      <td>0.0</td>\n",
       "      <td>...</td>\n",
       "      <td>0.0</td>\n",
       "      <td>0.0</td>\n",
       "      <td>0.0</td>\n",
       "      <td>0.0</td>\n",
       "      <td>0.179822</td>\n",
       "      <td>0.000000</td>\n",
       "      <td>0.0</td>\n",
       "      <td>0.0</td>\n",
       "      <td>0.0</td>\n",
       "      <td>0.0</td>\n",
       "    </tr>\n",
       "    <tr>\n",
       "      <th>1</th>\n",
       "      <td>0.0</td>\n",
       "      <td>0.0</td>\n",
       "      <td>0.0</td>\n",
       "      <td>0.0</td>\n",
       "      <td>0.0</td>\n",
       "      <td>0.0</td>\n",
       "      <td>0.0</td>\n",
       "      <td>0.0</td>\n",
       "      <td>0.0</td>\n",
       "      <td>0.0</td>\n",
       "      <td>...</td>\n",
       "      <td>0.0</td>\n",
       "      <td>0.0</td>\n",
       "      <td>0.0</td>\n",
       "      <td>0.0</td>\n",
       "      <td>0.180348</td>\n",
       "      <td>0.000000</td>\n",
       "      <td>0.0</td>\n",
       "      <td>0.0</td>\n",
       "      <td>0.0</td>\n",
       "      <td>0.0</td>\n",
       "    </tr>\n",
       "    <tr>\n",
       "      <th>2</th>\n",
       "      <td>0.0</td>\n",
       "      <td>0.0</td>\n",
       "      <td>0.0</td>\n",
       "      <td>0.0</td>\n",
       "      <td>0.0</td>\n",
       "      <td>0.0</td>\n",
       "      <td>0.0</td>\n",
       "      <td>0.0</td>\n",
       "      <td>0.0</td>\n",
       "      <td>0.0</td>\n",
       "      <td>...</td>\n",
       "      <td>0.0</td>\n",
       "      <td>0.0</td>\n",
       "      <td>0.0</td>\n",
       "      <td>0.0</td>\n",
       "      <td>0.000000</td>\n",
       "      <td>0.000000</td>\n",
       "      <td>0.0</td>\n",
       "      <td>0.0</td>\n",
       "      <td>0.0</td>\n",
       "      <td>0.0</td>\n",
       "    </tr>\n",
       "    <tr>\n",
       "      <th>3</th>\n",
       "      <td>0.0</td>\n",
       "      <td>0.0</td>\n",
       "      <td>0.0</td>\n",
       "      <td>0.0</td>\n",
       "      <td>0.0</td>\n",
       "      <td>0.0</td>\n",
       "      <td>0.0</td>\n",
       "      <td>0.0</td>\n",
       "      <td>0.0</td>\n",
       "      <td>0.0</td>\n",
       "      <td>...</td>\n",
       "      <td>0.0</td>\n",
       "      <td>0.0</td>\n",
       "      <td>0.0</td>\n",
       "      <td>0.0</td>\n",
       "      <td>0.140886</td>\n",
       "      <td>0.364569</td>\n",
       "      <td>0.0</td>\n",
       "      <td>0.0</td>\n",
       "      <td>0.0</td>\n",
       "      <td>0.0</td>\n",
       "    </tr>\n",
       "    <tr>\n",
       "      <th>4</th>\n",
       "      <td>0.0</td>\n",
       "      <td>0.0</td>\n",
       "      <td>0.0</td>\n",
       "      <td>0.0</td>\n",
       "      <td>0.0</td>\n",
       "      <td>0.0</td>\n",
       "      <td>0.0</td>\n",
       "      <td>0.0</td>\n",
       "      <td>0.0</td>\n",
       "      <td>0.0</td>\n",
       "      <td>...</td>\n",
       "      <td>0.0</td>\n",
       "      <td>0.0</td>\n",
       "      <td>0.0</td>\n",
       "      <td>0.0</td>\n",
       "      <td>0.237390</td>\n",
       "      <td>0.000000</td>\n",
       "      <td>0.0</td>\n",
       "      <td>0.0</td>\n",
       "      <td>0.0</td>\n",
       "      <td>0.0</td>\n",
       "    </tr>\n",
       "  </tbody>\n",
       "</table>\n",
       "<p>5 rows × 1969 columns</p>\n",
       "</div>"
      ],
      "text/plain": [
       "    00   01   04   05   09  0cm   10  100  101  102  ...    x3   x4   x5  \\\n",
       "0  0.0  0.0  0.0  0.0  0.0  0.0  0.0  0.0  0.0  0.0  ...   0.0  0.0  0.0   \n",
       "1  0.0  0.0  0.0  0.0  0.0  0.0  0.0  0.0  0.0  0.0  ...   0.0  0.0  0.0   \n",
       "2  0.0  0.0  0.0  0.0  0.0  0.0  0.0  0.0  0.0  0.0  ...   0.0  0.0  0.0   \n",
       "3  0.0  0.0  0.0  0.0  0.0  0.0  0.0  0.0  0.0  0.0  ...   0.0  0.0  0.0   \n",
       "4  0.0  0.0  0.0  0.0  0.0  0.0  0.0  0.0  0.0  0.0  ...   0.0  0.0  0.0   \n",
       "\n",
       "   xray      year    yearly  years  yesterday  zithromax  zone  \n",
       "0   0.0  0.179822  0.000000    0.0        0.0        0.0   0.0  \n",
       "1   0.0  0.180348  0.000000    0.0        0.0        0.0   0.0  \n",
       "2   0.0  0.000000  0.000000    0.0        0.0        0.0   0.0  \n",
       "3   0.0  0.140886  0.364569    0.0        0.0        0.0   0.0  \n",
       "4   0.0  0.237390  0.000000    0.0        0.0        0.0   0.0  \n",
       "\n",
       "[5 rows x 1969 columns]"
      ]
     },
     "execution_count": 9,
     "metadata": {},
     "output_type": "execute_result"
    }
   ],
   "source": [
    "convoDF.head()"
   ]
  },
  {
   "cell_type": "code",
   "execution_count": 10,
   "metadata": {
    "collapsed": true
   },
   "outputs": [],
   "source": [
    "Y = df['ICD_9']"
   ]
  },
  {
   "cell_type": "code",
   "execution_count": 11,
   "metadata": {
    "collapsed": true
   },
   "outputs": [],
   "source": [
    "c=convoDF.values"
   ]
  },
  {
   "cell_type": "code",
   "execution_count": 12,
   "metadata": {},
   "outputs": [
    {
     "data": {
      "text/plain": [
       "StandardScaler(copy=True, with_mean=True, with_std=True)"
      ]
     },
     "execution_count": 12,
     "metadata": {},
     "output_type": "execute_result"
    },
    {
     "data": {
      "text/plain": [
       "array([[-0.01632993, -0.129769  , -0.02309709, ..., -0.03448159,\n",
       "        -0.01632993, -0.03081416],\n",
       "       [-0.01632993, -0.129769  , -0.02309709, ..., -0.03448159,\n",
       "        -0.01632993, -0.03081416],\n",
       "       [-0.01632993, -0.129769  , -0.02309709, ..., -0.03448159,\n",
       "        -0.01632993, -0.03081416],\n",
       "       ..., \n",
       "       [-0.01632993, -0.129769  , -0.02309709, ..., -0.03448159,\n",
       "        -0.01632993, -0.03081416],\n",
       "       [-0.01632993, -0.129769  , -0.02309709, ..., -0.03448159,\n",
       "        -0.01632993, -0.03081416],\n",
       "       [-0.01632993, -0.129769  , -0.02309709, ..., -0.03448159,\n",
       "        -0.01632993, -0.03081416]])"
      ]
     },
     "execution_count": 12,
     "metadata": {},
     "output_type": "execute_result"
    }
   ],
   "source": [
    "scaler = StandardScaler()\n",
    "scaler.fit(convoDF)\n",
    "x_s = scaler.transform(convoDF)\n",
    "x_s\n",
    "\n",
    "#Y.head()"
   ]
  },
  {
   "cell_type": "code",
   "execution_count": null,
   "metadata": {},
   "outputs": [],
   "source": []
  },
  {
   "cell_type": "code",
   "execution_count": 65,
   "metadata": {
    "collapsed": true
   },
   "outputs": [],
   "source": [
    "# save scaler so it can be used on new data to transform it the same way it did on the training set\n",
    "import pickle\n",
    "scalerfile = 'scaler.sav'\n",
    "pickle.dump(scaler, open(scalerfile, 'wb'))"
   ]
  },
  {
   "cell_type": "code",
   "execution_count": 17,
   "metadata": {},
   "outputs": [
    {
     "data": {
      "text/plain": [
       "array([[-0.01632993, -0.129769  , -0.02309709, ..., -0.03448159,\n",
       "        -0.01632993, -0.03081416],\n",
       "       [-0.01632993, -0.129769  , -0.02309709, ..., -0.03448159,\n",
       "        -0.01632993, -0.03081416],\n",
       "       [-0.01632993, -0.129769  , -0.02309709, ..., -0.03448159,\n",
       "        -0.01632993, -0.03081416],\n",
       "       ..., \n",
       "       [-0.01632993, -0.129769  , -0.02309709, ..., -0.03448159,\n",
       "        -0.01632993, -0.03081416],\n",
       "       [-0.01632993, -0.129769  , -0.02309709, ..., -0.03448159,\n",
       "        -0.01632993, -0.03081416],\n",
       "       [-0.01632993, -0.129769  , -0.02309709, ..., -0.03448159,\n",
       "        -0.01632993, -0.03081416]])"
      ]
     },
     "execution_count": 17,
     "metadata": {},
     "output_type": "execute_result"
    },
    {
     "data": {
      "text/plain": [
       "2283    780.6\n",
       "506       591\n",
       "2222    780.6\n",
       "3356    786.2\n",
       "1806    599.7\n",
       "Name: ICD_9, dtype: object"
      ]
     },
     "execution_count": 17,
     "metadata": {},
     "output_type": "execute_result"
    }
   ],
   "source": [
    "# Train/test split\n",
    "X_train, X_test, y_train, y_test = train_test_split(x_s, Y, test_size=0.2, random_state=42)\n",
    "X_train\n",
    "y_train[:5]"
   ]
  },
  {
   "cell_type": "code",
   "execution_count": null,
   "metadata": {
    "collapsed": true
   },
   "outputs": [],
   "source": []
  },
  {
   "cell_type": "code",
   "execution_count": null,
   "metadata": {
    "collapsed": true
   },
   "outputs": [],
   "source": []
  },
  {
   "cell_type": "markdown",
   "metadata": {},
   "source": [
    "# SVM\n"
   ]
  },
  {
   "cell_type": "code",
   "execution_count": 37,
   "metadata": {},
   "outputs": [
    {
     "data": {
      "text/plain": [
       "GridSearchCV(cv=5, error_score='raise',\n",
       "       estimator=SVC(C=1.0, cache_size=200, class_weight=None, coef0=0.0,\n",
       "  decision_function_shape='ovr', degree=3, gamma='auto', kernel='rbf',\n",
       "  max_iter=-1, probability=False, random_state=None, shrinking=True,\n",
       "  tol=0.001, verbose=False),\n",
       "       fit_params=None, iid=True, n_jobs=1,\n",
       "       param_grid=[{'kernel': ['linear'], 'C': [1, 10, 100, 1000]}],\n",
       "       pre_dispatch='2*n_jobs', refit=True, return_train_score=True,\n",
       "       scoring=None, verbose=0)"
      ]
     },
     "execution_count": 37,
     "metadata": {},
     "output_type": "execute_result"
    },
    {
     "name": "stdout",
     "output_type": "stream",
     "text": [
      "Best parameters set found on development set:\n",
      "\n",
      "{'C': 1, 'kernel': 'linear'}\n"
     ]
    }
   ],
   "source": [
    "#http://scikit-learn.org/0.18/auto_examples/model_selection/grid_search_digits.html\n",
    "from sklearn.model_selection import GridSearchCV\n",
    "from sklearn.metrics import classification_report\n",
    "from sklearn.svm import SVC\n",
    "\n",
    "tuned_parameters = [{'kernel': ['linear'], 'C': [1, 10, 100, 1000]}]#,\n",
    "                    #{'kernel': ['rbf'], 'gamma': [1e-3, 1e-4],\n",
    "                    #                       'C': [1, 10, 100, 1000]},\n",
    "                    #{'kernel': ['sigmoid'],'gamma': [1e-3, 1e-4],\n",
    "                    #                       'C': [1, 10, 100, 1000]}]\n",
    "\n",
    "svc = svm.SVC()\n",
    "clf = GridSearchCV(svc, tuned_parameters, cv=5)#,\n",
    "                       #scoring='%s_macro' % score)\n",
    "clf.fit(X_train, y_train)\n",
    "\n",
    "print(\"Best parameters set found on development set:\")\n",
    "print()\n",
    "print(clf.best_params_)"
   ]
  },
  {
   "cell_type": "code",
   "execution_count": 38,
   "metadata": {},
   "outputs": [
    {
     "name": "stdout",
     "output_type": "stream",
     "text": [
      "0.342\n"
     ]
    }
   ],
   "source": [
    "print(clf.best_score_)"
   ]
  },
  {
   "cell_type": "code",
   "execution_count": 15,
   "metadata": {},
   "outputs": [
    {
     "data": {
      "text/plain": [
       "SVC(C=1, cache_size=200, class_weight=None, coef0=0.0,\n",
       "  decision_function_shape='ovr', degree=3, gamma='auto', kernel='linear',\n",
       "  max_iter=-1, probability=False, random_state=None, shrinking=True,\n",
       "  tol=0.001, verbose=False)"
      ]
     },
     "execution_count": 15,
     "metadata": {},
     "output_type": "execute_result"
    },
    {
     "data": {
      "text/plain": [
       "0.34886817576564583"
      ]
     },
     "execution_count": 15,
     "metadata": {},
     "output_type": "execute_result"
    }
   ],
   "source": [
    "from sklearn import svm\n",
    "# Create SVM classification object \n",
    "model = svm.SVC(kernel='linear', C=1)#, gamma='auto') \n",
    "# there is various option associated with it, like changing kernel, gamma and C value. Will discuss more # about it in next section.Train the model using the training sets and check score\n",
    "model.fit(X_train, y_train)\n",
    "model.score(X_test, y_test)\n",
    "#Predict Output\n",
    "#predicted= model.predict(X_test)"
   ]
  },
  {
   "cell_type": "code",
   "execution_count": 61,
   "metadata": {},
   "outputs": [
    {
     "data": {
      "text/plain": [
       "array(['486', '599', '786.5', '591', '599', '596.54', '786.07', '591',\n",
       "       '795.5', '591', '486', '780.6', '591', '593.89', '753.21', '593.89',\n",
       "       '596.54', '786.2', '493.9', '599', '599', '786.5', '591', '780.6',\n",
       "       '486', '786.2', '599', '596.54', '486', '599', '486', '593.7',\n",
       "       '780.6', '795.5', '599', '486', '786.2', '789', '591', '786.2',\n",
       "       '786.2', '486', '593.7', '780.6', '593.89', '780.6', '788.3',\n",
       "       '599.7', '591', '786.2', '593.7', '780.6', '593.7', '493.9', '599',\n",
       "       '786.2', '780.6', '786.07', '786.5', '593.89', '780.6', '518',\n",
       "       '753.3', '486', '786.2', '753.3', '593.7', '593.89', '486', '593.7',\n",
       "       '786.5', '486', '277', '591', '786.2', '486', '780.6', '599', '518',\n",
       "       '786.2', '493.9', '786.2', '591', '593.5', '786.2', '786.5',\n",
       "       '786.2', '599', '788.3', '591', '596.54', '788.3', '780.6', '592',\n",
       "       '599', '780.6', '277', '591', '486', '780.6', '493.9', '780.6',\n",
       "       '780.6', '786.07', '786.2', '593.7', '786.2', '780.6', '593.7',\n",
       "       '786.2', '486', '596.54', '786.2', '753.3', '596.54', '786.2',\n",
       "       '493.9', '780.6', '780.6', 'V67.09', '599.7', '786.2', '596.54',\n",
       "       '593.7', '486', '780.6', '599', '591', '486', '486', '277', '786.5',\n",
       "       '753.3', '599', '593.7', '786.2', '486', '786.2', '591', '486',\n",
       "       '596.54', '786.2', '593.7', '786.09', '786.2', '486', '593.7',\n",
       "       '277', '780.6', '486', '591', '780.6', '786.2', '788.3', '788.3',\n",
       "       '786.2', '593.89', '780.6', '593.7', '591', '780.6', '599', '599.7',\n",
       "       '786.2', '593.7', '795.5', '591', '786.2', '788.3', '780.6',\n",
       "       '786.07', '593.89', '786.07', '596.54', '780.6', '486', '591',\n",
       "       '786.07', '591', '786.2', '593.89', '780.6', '591', '786.2',\n",
       "       '780.6', 'V13.09', '786.07', '599', '786.07', '518', 'V13.02',\n",
       "       '786.2', '596.54', '591', '780.6', '593.7', '786.2', '518', '786.2',\n",
       "       '789', '486', '780.6', '593.89', '592', '593.7', '486', '593.7',\n",
       "       '786.2', '591', '789', '786.2', '753.3', '786.5', '593.5', '786.2',\n",
       "       '591', '759.89', '741.9', '486', '786.07', '786.2', '786.2',\n",
       "       '759.89', '486', '780.6', '591', '486', '591', '593.89', '786.5',\n",
       "       '599', '486', '593.5', '786.2', '596.54', '786.2', '591', '599',\n",
       "       '786.5', '786.07', '786.2', '786.2', '277', '780.6', '786.2',\n",
       "       '786.2', '596.54', '786.2', '599', '486', '599.7', '786.2', '786.2',\n",
       "       '593.7', '591', '599', '593.7', '786.2', 'V13.02', '518', '786.2',\n",
       "       '593.5', '599', '593.89', '591', '786.2', '786.2', '780.6', '786.2',\n",
       "       '599', '493.9', '518', '786.2', '493.9', '593.5', '780.6', '599',\n",
       "       '593.89', '786.07', '786.2', '786.2', '780.6', '786.2', '591',\n",
       "       '786.2', '780.6', '486', '593.7', '593.7', 'V67.09', '753.3', '486',\n",
       "       '593.89', '593.7', '486', '786.2', '780.6', '786.2', '593.7',\n",
       "       '786.07', '596.54', '786.09', '780.6', '786.2', '591', '599',\n",
       "       '753.3', '591', '599', '486', '593.7', '593.7', '486', '591', '591',\n",
       "       '591', '593.89', '518', '486', '591', '786.2', '493.9', '786.2',\n",
       "       '599.7', '780.6', '596.54', '599', '780.6', 'V13.02', '599',\n",
       "       '593.7', '786.2', '591', '599', '786.2', '593.89', '486', '780.6',\n",
       "       '486', '591', '486', '599', '786.2', '786.07', '591', '786.2',\n",
       "       '592', '786.09', '486', '599', '593.7', '786.07', '786.2', '786.2',\n",
       "       '493.9', '780.6', '780.6', '593.7', '780.6', '593.7', '591',\n",
       "       '780.6', '277', '786.2', '593.7', '786.07', '518', '786.2',\n",
       "       'V13.02', '786.2', '593.5', '486', '599', '593.7', '786.2', '518',\n",
       "       '599', '493.9', '593.7', '593.7', '593.89', '786.2', '591',\n",
       "       '759.89', '486', '486', '786.2', '786.2', '780.6', 'V67.09',\n",
       "       '599.7', '493.9', '486', '593.7', '780.6', '593.7', '786.5', '591',\n",
       "       '786.2', '599', '486', '786.2', '599', '599', '596.54', '786.2',\n",
       "       '591', '486', '599', '518', '795.5', '593.7', '786.2', 'V13.02',\n",
       "       '592', '591', '486', '780.6', '786.2', '780.6', '786.07', '780.6',\n",
       "       '780.6', '780.6', '486', '593.89', '786.2', '591', '596.54',\n",
       "       '593.7', '786.07', '593.7', '596.54', '788.3', '759.89', '786.2',\n",
       "       '593.89', '591', '780.6', '593.7', '493.9', '786.2', '786.07',\n",
       "       '786.2', '593.7', '596.54', '593.7', '786.2', '593.7', '592',\n",
       "       '593.7', '780.6', '493.9', '753.3', '593.89', '593.7', '599', '486',\n",
       "       '780.6', '741.9', 'V67.09', '786.5', '593.89', 'V13.09', '591',\n",
       "       '786.07', '596.54', '486', '591', '780.6', '593.5', '786.2', '518',\n",
       "       '599', '599', '591', '786.5', '591', '786.5', '486', '780.6',\n",
       "       '599.7', '786.07', '493.9', '593.7', '780.6', '486', '591',\n",
       "       'V13.09', '486', '786.2', '486', '786.2', '486', '786.5', '780.6',\n",
       "       '486', '789.09', '593.7', '591', '786.2', '599', '780.6', '591',\n",
       "       '741.9', '486', '780.6', '780.6', '741.9', '486', '599', '593.7',\n",
       "       '591', '786.2', '493.9', '593.89', '786.2', '518', '599', '277',\n",
       "       '786.2', '591', '593.7', '593.89', '786.2', '786.07', '786.2',\n",
       "       '786.5', '599', '599', '741.9', '759.89', '786.2', '591', '593.7',\n",
       "       '593.89', '593.89', '593.7', '591', '599', '593.7', '786.2', '599',\n",
       "       '786.2', '596.54', '593.89', '786.2', '593.7', '786.2', '591',\n",
       "       '780.6', '493.9', '780.6', 'V67.09', '780.6', '786.07', '780.6',\n",
       "       '593.7', '591', '780.6', '591', '786.2', '591', '786.07', '780.6',\n",
       "       '786.07', 'V13.02', '786.2', '786.2', '593.7', '518', '486',\n",
       "       '786.2', '786.2', '591', '753.3', '599.7', '486', '599', '593.7',\n",
       "       '596.54', '593.7', '780.6', '593.7', '786.07', '493.9', '599',\n",
       "       '786.2', '486', '593.89', '786.2', '786.2', '591', '593.7', '786.2',\n",
       "       '786.2', '593.7', '593.89', '786.07', '786.2', '599', '593.7',\n",
       "       '593.7', 'V13.02', '786.07', '593.7', '593.7', '786.2', '753.3',\n",
       "       '786.2', '786.09', '596.54', '591', '593.7', '786.07', '786.2',\n",
       "       '786.07', '786.2', '596.54', '786.2', '780.6', '593.89', '518',\n",
       "       '789', '786.2', '591', '599.7', '593.7', '786.2', '486', 'V67.09',\n",
       "       '786.2', '599', '593.89', '593.7', '786.2', '786.2', '753.3',\n",
       "       '593.7', '593.7', '753.21', '786.2', '753.21', '591', '599.7',\n",
       "       '786.2', '786.2', '786.2', '795.5', '593.7', '795.5', '786.2',\n",
       "       '786.07', '591', '591', '780.6', '591', '593.7', '486', '789',\n",
       "       '753.3', '780.6', '591', '591', '786.5', '593.89', '780.6', '591',\n",
       "       '277', '599', '786.2', '786.2', '786.2', '599', '753.3', '486',\n",
       "       '780.6', '593.7', '795.5', '593.7', '591', '599', '596.54', '599.7',\n",
       "       '486', '486', '780.6', 'V13.02', '753.3', '786.2', '786.2',\n",
       "       '593.89', '591', '786.2', '780.6', '786.2', '486', '786.2', '593.7',\n",
       "       '486', '786.2', '486', '486', '593.89', '593.7', '593.7', '788.3',\n",
       "       '486', '786.2', '593.89', '786.2', '591', '593.7', '786.2', '780.6',\n",
       "       '486', '593.7', '599', '596.54', '593.5', '596.54', '593.7',\n",
       "       '593.7', '786.2', '789.09', '786.09', '780.6', '486', '599',\n",
       "       '593.7', '591', '591', '780.6', '780.6', '786.07', 'V13.02', '486',\n",
       "       '786.5', '596.54', '786.2', '486', '599', '593.89', '591', '599',\n",
       "       '593.89', '786.2', '786.2', '591', '786.2', '599'], dtype=object)"
      ]
     },
     "execution_count": 61,
     "metadata": {},
     "output_type": "execute_result"
    }
   ],
   "source": [
    "model.predict(X_test)"
   ]
  },
  {
   "cell_type": "code",
   "execution_count": null,
   "metadata": {},
   "outputs": [],
   "source": []
  },
  {
   "cell_type": "code",
   "execution_count": null,
   "metadata": {},
   "outputs": [],
   "source": [
    "# pickled svm model\n",
    "import pickle\n",
    "#conda install requests will be needed\n",
    "import requests, json\n",
    "pickle.dump(model, open(\"icd9_svm.pkl\", \"wb\"))"
   ]
  },
  {
   "cell_type": "code",
   "execution_count": 20,
   "metadata": {
    "collapsed": true
   },
   "outputs": [],
   "source": [
    "# load back pickled file \n",
    "my_svm = pickle.load(open(\"icd9_svm.pkl\", \"rb\"))"
   ]
  },
  {
   "cell_type": "code",
   "execution_count": 21,
   "metadata": {},
   "outputs": [
    {
     "data": {
      "text/plain": [
       "SVC(C=1, cache_size=200, class_weight=None, coef0=0.0,\n",
       "  decision_function_shape='ovr', degree=3, gamma='auto', kernel='linear',\n",
       "  max_iter=-1, probability=False, random_state=None, shrinking=True,\n",
       "  tol=0.001, verbose=False)"
      ]
     },
     "execution_count": 21,
     "metadata": {},
     "output_type": "execute_result"
    }
   ],
   "source": [
    "my_svm"
   ]
  },
  {
   "cell_type": "code",
   "execution_count": 23,
   "metadata": {},
   "outputs": [
    {
     "name": "stdout",
     "output_type": "stream",
     "text": [
      "Accuracy = 0.35\n"
     ]
    }
   ],
   "source": [
    "from sklearn.metrics import accuracy_score\n",
    "\n",
    "print(\"Accuracy = %0.2f\" % accuracy_score (y_test, my_svm.predict(X_test)))\n",
    "#print(classification_report(y_test, my_svm.predict(X_test)))"
   ]
  },
  {
   "cell_type": "code",
   "execution_count": null,
   "metadata": {
    "collapsed": true
   },
   "outputs": [],
   "source": []
  },
  {
   "cell_type": "markdown",
   "metadata": {
    "collapsed": true
   },
   "source": [
    "# connect web service by ICD9_svm.py (api)"
   ]
  },
  {
   "cell_type": "code",
   "execution_count": 15,
   "metadata": {},
   "outputs": [
    {
     "name": "stdout",
     "output_type": "stream",
     "text": [
      "{'results': {'ICD9 code': '786.07'}}\n"
     ]
    }
   ],
   "source": [
    "import sys\n",
    "import json\n",
    "import requests\n",
    "\n",
    "url = \"http://localhost:9000/api\"\n",
    "data = json.dumps({'sentences':'male with wheezing.'}) \n",
    "r = requests.post(url, data)\n",
    "\n",
    "print(r.json())\n",
    "# actual code: 518\n",
    "# model still needs some improvment "
   ]
  },
  {
   "cell_type": "code",
   "execution_count": null,
   "metadata": {
    "collapsed": true
   },
   "outputs": [],
   "source": []
  },
  {
   "cell_type": "code",
   "execution_count": null,
   "metadata": {
    "collapsed": true
   },
   "outputs": [],
   "source": []
  },
  {
   "cell_type": "code",
   "execution_count": null,
   "metadata": {
    "collapsed": true
   },
   "outputs": [],
   "source": []
  },
  {
   "cell_type": "code",
   "execution_count": null,
   "metadata": {
    "collapsed": true
   },
   "outputs": [],
   "source": []
  },
  {
   "cell_type": "code",
   "execution_count": null,
   "metadata": {
    "collapsed": true
   },
   "outputs": [],
   "source": []
  },
  {
   "cell_type": "code",
   "execution_count": null,
   "metadata": {
    "collapsed": true
   },
   "outputs": [],
   "source": []
  },
  {
   "cell_type": "markdown",
   "metadata": {},
   "source": [
    "# Compare Algorithms\n",
    "#https://machinelearningmastery.com/compare-machine-learning-algorithms-python-scikit-learn/\n"
   ]
  },
  {
   "cell_type": "code",
   "execution_count": 20,
   "metadata": {},
   "outputs": [
    {
     "name": "stdout",
     "output_type": "stream",
     "text": [
      "KNN: 0.348333 (0.023863)\n",
      "CART: 0.356667 (0.034512)\n",
      "NB: 0.166667 (0.019322)\n",
      "SVM: 0.390333 (0.014791)\n"
     ]
    },
    {
     "data": {
      "text/plain": [
       "Text(0.5,0.98,'Algorithm Comparison')"
      ]
     },
     "execution_count": 20,
     "metadata": {},
     "output_type": "execute_result"
    },
    {
     "data": {
      "text/plain": [
       "{'boxes': [<matplotlib.lines.Line2D at 0x1a16c9c400>,\n",
       "  <matplotlib.lines.Line2D at 0x1a16cb4f28>,\n",
       "  <matplotlib.lines.Line2D at 0x1a16cc4cf8>,\n",
       "  <matplotlib.lines.Line2D at 0x1a16cd3be0>],\n",
       " 'caps': [<matplotlib.lines.Line2D at 0x1a16c9ce10>,\n",
       "  <matplotlib.lines.Line2D at 0x1a16cb4278>,\n",
       "  <matplotlib.lines.Line2D at 0x1a16cbabe0>,\n",
       "  <matplotlib.lines.Line2D at 0x1a16cc4048>,\n",
       "  <matplotlib.lines.Line2D at 0x1a16ccca58>,\n",
       "  <matplotlib.lines.Line2D at 0x1a16ccceb8>,\n",
       "  <matplotlib.lines.Line2D at 0x1a168db978>,\n",
       "  <matplotlib.lines.Line2D at 0x1a168dbdd8>],\n",
       " 'fliers': [<matplotlib.lines.Line2D at 0x1a16cb4ac8>,\n",
       "  <matplotlib.lines.Line2D at 0x1a16cc4898>,\n",
       "  <matplotlib.lines.Line2D at 0x1a16cd37b8>,\n",
       "  <matplotlib.lines.Line2D at 0x1a168e26d8>],\n",
       " 'means': [],\n",
       " 'medians': [<matplotlib.lines.Line2D at 0x1a16cb46a0>,\n",
       "  <matplotlib.lines.Line2D at 0x1a16cc4470>,\n",
       "  <matplotlib.lines.Line2D at 0x1a16cd3358>,\n",
       "  <matplotlib.lines.Line2D at 0x1a168e2278>],\n",
       " 'whiskers': [<matplotlib.lines.Line2D at 0x1a16c9c550>,\n",
       "  <matplotlib.lines.Line2D at 0x1a16c9c9e8>,\n",
       "  <matplotlib.lines.Line2D at 0x1a16cba390>,\n",
       "  <matplotlib.lines.Line2D at 0x1a16cba7b8>,\n",
       "  <matplotlib.lines.Line2D at 0x1a16ccc198>,\n",
       "  <matplotlib.lines.Line2D at 0x1a16ccc5f8>,\n",
       "  <matplotlib.lines.Line2D at 0x1a168db0b8>,\n",
       "  <matplotlib.lines.Line2D at 0x1a168db518>]}"
      ]
     },
     "execution_count": 20,
     "metadata": {},
     "output_type": "execute_result"
    },
    {
     "data": {
      "text/plain": [
       "[Text(0,0,'KNN'), Text(0,0,'CART'), Text(0,0,'NB'), Text(0,0,'SVM')]"
      ]
     },
     "execution_count": 20,
     "metadata": {},
     "output_type": "execute_result"
    },
    {
     "data": {
      "image/png": "[encoded data removed]",
      "text/plain": [
       "<matplotlib.figure.Figure at 0x1a15e43c50>"
      ]
     },
     "metadata": {
      "image/png": {
       "height": 277,
       "width": 380
      }
     },
     "output_type": "display_data"
    }
   ],
   "source": [
    "import pandas\n",
    "import matplotlib.pyplot as plt\n",
    "from sklearn import model_selection\n",
    "from sklearn.linear_model import LogisticRegression\n",
    "from sklearn.tree import DecisionTreeClassifier\n",
    "from sklearn.neighbors import KNeighborsClassifier\n",
    "from sklearn.discriminant_analysis import LinearDiscriminantAnalysis\n",
    "from sklearn.naive_bayes import GaussianNB\n",
    "from sklearn.svm import SVC\n",
    "\n",
    "# prepare configuration for cross validation test harness\n",
    "seed = 7\n",
    "# prepare models\n",
    "models = []\n",
    "#models.append(('LR', LogisticRegression()))\n",
    "#models.append(('LDA', LinearDiscriminantAnalysis()))\n",
    "models.append(('KNN', KNeighborsClassifier()))\n",
    "models.append(('CART', DecisionTreeClassifier()))\n",
    "models.append(('NB', GaussianNB()))\n",
    "models.append(('SVM', SVC()))\n",
    "# evaluate each model in turn\n",
    "results = []\n",
    "names = []\n",
    "scoring = 'accuracy'\n",
    "for name, model in models:\n",
    "    kfold = model_selection.KFold(n_splits=10, random_state=seed)\n",
    "    cv_results = model_selection.cross_val_score(model, X_train, y_train, cv=kfold, scoring=scoring)\n",
    "    results.append(cv_results)\n",
    "    names.append(name)\n",
    "    msg = \"%s: %f (%f)\" % (name, cv_results.mean(), cv_results.std())\n",
    "    print(msg)\n",
    "# boxplot algorithm comparison\n",
    "fig = plt.figure()\n",
    "fig.suptitle('Algorithm Comparison')\n",
    "ax = fig.add_subplot(111)\n",
    "plt.boxplot(results)\n",
    "ax.set_xticklabels(names)\n",
    "plt.show()"
   ]
  },
  {
   "cell_type": "code",
   "execution_count": null,
   "metadata": {
    "collapsed": true
   },
   "outputs": [],
   "source": []
  },
  {
   "cell_type": "code",
   "execution_count": null,
   "metadata": {
    "collapsed": true
   },
   "outputs": [],
   "source": []
  }
 ],
 "metadata": {
  "kernelspec": {
   "display_name": "Python [conda env:py360]",
   "language": "python",
   "name": "conda-env-py360-py"
  },
  "language_info": {
   "codemirror_mode": {
    "name": "ipython",
    "version": 3
   },
   "file_extension": ".py",
   "mimetype": "text/x-python",
   "name": "python",
   "nbconvert_exporter": "python",
   "pygments_lexer": "ipython3",
   "version": "3.6.3"
  }
 },
 "nbformat": 4,
 "nbformat_minor": 2
}
